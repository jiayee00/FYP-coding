{
 "cells": [
  {
   "cell_type": "code",
   "execution_count": 1,
   "metadata": {},
   "outputs": [
    {
     "name": "stdout",
     "output_type": "stream",
     "text": [
      "(511, 19274)\n",
      "(511, 19581)\n",
      "(511, 224)\n"
     ]
    }
   ],
   "source": [
    "import pandas as pd\n",
    "\n",
    "# Read omic data from each dataset\n",
    "genome = pd.read_csv('data/gistic_data.csv')\n",
    "transcriptome = pd.read_csv('data/fpkm_data.csv')\n",
    "proteome = pd.read_csv('data/rppa_data.csv') \n",
    "\n",
    "# Get the row and column number \n",
    "print(genome.shape)\n",
    "print(transcriptome.shape)\n",
    "print(proteome.shape)"
   ]
  },
  {
   "cell_type": "code",
   "execution_count": 2,
   "metadata": {},
   "outputs": [
    {
     "name": "stdout",
     "output_type": "stream",
     "text": [
      "Sample_ID    object\n",
      "CDK11A        int64\n",
      "NADK          int64\n",
      "PRKCZ         int64\n",
      "GNB1          int64\n",
      "              ...  \n",
      "H2AB3         int64\n",
      "H2AB2         int64\n",
      "VAMP7         int64\n",
      "IL9R          int64\n",
      "SPRY3         int64\n",
      "Length: 19274, dtype: object\n"
     ]
    }
   ],
   "source": [
    "# View the data type of features and sample_ID in genome dataset\n",
    "print(genome.dtypes)"
   ]
  },
  {
   "cell_type": "code",
   "execution_count": 3,
   "metadata": {},
   "outputs": [
    {
     "name": "stdout",
     "output_type": "stream",
     "text": [
      "Sample_ID     object\n",
      "RAB4B        float64\n",
      "TIGAR        float64\n",
      "RNF44        float64\n",
      "DNAH3        float64\n",
      "              ...   \n",
      "TENM1        float64\n",
      "CYP4F2       float64\n",
      "PPP6R1       float64\n",
      "BATF3        float64\n",
      "OR8D4        float64\n",
      "Length: 19581, dtype: object\n"
     ]
    }
   ],
   "source": [
    "# View the data type of features and sample_ID in transcriptome dataset\n",
    "print(transcriptome.dtypes)"
   ]
  },
  {
   "cell_type": "code",
   "execution_count": 4,
   "metadata": {},
   "outputs": [
    {
     "name": "stdout",
     "output_type": "stream",
     "text": [
      "Sample_ID         object\n",
      "1433EPSILON      float64\n",
      "4EBP1            float64\n",
      "4EBP1_pS65       float64\n",
      "4EBP1_pT37T46    float64\n",
      "                  ...   \n",
      "IRF1             float64\n",
      "JAK2             float64\n",
      "P16INK4A         float64\n",
      "SHP2_pY542       float64\n",
      "PDL1             float64\n",
      "Length: 224, dtype: object\n"
     ]
    }
   ],
   "source": [
    "# View the data type of features and sample_ID in proteome dataset\n",
    "print(proteome.dtypes)"
   ]
  },
  {
   "cell_type": "code",
   "execution_count": 6,
   "metadata": {},
   "outputs": [
    {
     "name": "stdout",
     "output_type": "stream",
     "text": [
      "Number of genome missing values:  0\n",
      "Number of transcriptome missing values:  0\n",
      "Number of proteome missing values:  0\n",
      "\n",
      "Genome duplicates number:  0\n",
      "Transcriptome duplicates number:  0\n",
      "Proteome duplicates number:  0\n"
     ]
    }
   ],
   "source": [
    "# Obtain total number of missing values in each dataset\n",
    "print('Number of genome missing values: ', genome.isnull().sum().sum())\n",
    "print('Number of transcriptome missing values: ', transcriptome.isnull().sum().sum())\n",
    "print('Number of proteome missing values: ', proteome.isnull().sum().sum())\n",
    "\n",
    "# Obtain total number of duplicates in each dataset\n",
    "print('\\nGenome duplicates number: ', genome.duplicated().sum())\n",
    "print('Transcriptome duplicates number: ', transcriptome.duplicated().sum())\n",
    "print('Proteome duplicates number: ', proteome.duplicated().sum())\n",
    "\n",
    "genome.to_csv('data/genome.csv',index=False)\n",
    "transcriptome.to_csv('data/transcriptome.csv',index=False)\n",
    "proteome.to_csv('data/proteome.csv',index=False)"
   ]
  }
 ],
 "metadata": {
  "kernelspec": {
   "display_name": "Python 3",
   "language": "python",
   "name": "python3"
  },
  "language_info": {
   "codemirror_mode": {
    "name": "ipython",
    "version": 3
   },
   "file_extension": ".py",
   "mimetype": "text/x-python",
   "name": "python",
   "nbconvert_exporter": "python",
   "pygments_lexer": "ipython3",
   "version": "3.11.0"
  },
  "orig_nbformat": 4
 },
 "nbformat": 4,
 "nbformat_minor": 2
}
